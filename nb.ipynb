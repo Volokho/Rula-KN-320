{
 "cells": [
  {
   "cell_type": "markdown",
   "metadata": {},
   "source": [
    "# Звіт роботи\n",
    "## Тема: _Робота з тестами в Пайтон_\n",
    "### Мета роботи: _Навчитися створювати тести та за допомогою них перевіряти правильність виконання програм_\n",
    "### Результати виконання завдань:\n",
    "### 1. Створили [Пайтон Ноутбук] (./nb,ipynb) де будемо працювати з базовими конструкціями для тестування;\n",
    "###1. Почали використовувати твердження `assert` та продемонстрували як у нас виникає помилка при не виконання \n",
    "### Почали використовувати бібліотеку `coverage`, потрібні команди записали у [Пайтон Ноутбук] \n",
    "### (./nb,ipynb)\n",
    "### Спробували використовувати фікстури та підвищили значення покриття коду.\n",
    "### Навчився писати базові юнітести та проводитии тестування програм;"
   ]
  },
  {
   "cell_type": "code",
   "execution_count": 1,
   "metadata": {},
   "outputs": [
    {
     "ename": "AssertionError",
     "evalue": "число має бути більшим за нуль!",
     "output_type": "error",
     "traceback": [
      "\u001b[1;31m---------------------------------------------------------------------------\u001b[0m",
      "\u001b[1;31mAssertionError\u001b[0m                            Traceback (most recent call last)",
      "Cell \u001b[1;32mIn[1], line 2\u001b[0m\n\u001b[0;32m      1\u001b[0m number \u001b[38;5;241m=\u001b[39m \u001b[38;5;241m-\u001b[39m\u001b[38;5;241m1\u001b[39m\n\u001b[1;32m----> 2\u001b[0m \u001b[38;5;28;01massert\u001b[39;00m number \u001b[38;5;241m>\u001b[39m \u001b[38;5;241m0\u001b[39m, \u001b[38;5;124m\"\u001b[39m\u001b[38;5;124mчисло має бути більшим за нуль!\u001b[39m\u001b[38;5;124m\"\u001b[39m\n",
      "\u001b[1;31mAssertionError\u001b[0m: число має бути більшим за нуль!"
     ]
    }
   ],
   "source": [
    "number = -1\n",
    "assert number > 0, \"число має бути більшим за нуль!\""
   ]
  },
  {
   "cell_type": "code",
   "execution_count": 2,
   "metadata": {},
   "outputs": [
    {
     "name": "stdout",
     "output_type": "stream",
     "text": [
      "введене число: 65\n"
     ]
    }
   ],
   "source": [
    "a = input(\"Введіть число: \")\n",
    "assert a.isdigit(), \"Потрібно ввести число!\"\n",
    "print(f\"введене число: {a}\")"
   ]
  },
  {
   "cell_type": "code",
   "execution_count": 3,
   "metadata": {},
   "outputs": [],
   "source": [
    "class Figure:\n",
    "    def __init__(self, type, length) -> None:\n",
    "        assert length > 0, \"Довжина має бути більшою за 0!\"\n",
    "        assert type in [\"квадрат\", \"прямокутник\", \"трикутник\"], \"Дозволені фігури: квадрат, прямокутник, трикутник\"\n",
    "        self.type = type\n",
    "        self.length = length\n",
    "\n",
    "#a = Figure(\"трапеція\", 12)\n",
    "#b = Figure(\"квадрат\", 0)\n",
    "c = Figure(\"квадрат\", 1)"
   ]
  },
  {
   "cell_type": "code",
   "execution_count": 8,
   "metadata": {},
   "outputs": [],
   "source": [
    "class Name:\n",
    "    def __init__(self, name) -> None:\n",
    "        if name not in [\"Руслан\", \"Анонім\"]:\n",
    "            raise ValueError(\"Дозволені імена: Руслан, Анонім\")\n",
    "        self.name = name\n",
    "\n",
    "a = Name(\"Руслан\")"
   ]
  },
  {
   "cell_type": "code",
   "execution_count": 9,
   "metadata": {},
   "outputs": [],
   "source": [
    "class Figure:\n",
    "    FIGURES = [\"квадрат\", \"прямокутник\", \"трикутник\"]\n",
    "    def __init__(self, type, length) -> None:\n",
    "        assert length > 0, \"Довжина має бути більшою за 0!\"\n",
    "        assert type in self.FIGURES, \"Дозволені фігури: квадрат, прямокутник, трикутник\"\n",
    "        self.type = type\n",
    "        self.length = length\n",
    "\n",
    "    @property\n",
    "    def get_figure_type(self):\n",
    "        return self.type\n",
    "\n",
    "    @property\n",
    "    def get_figure_length(self):\n",
    "        return self.type # робимо помилку"
   ]
  },
  {
   "cell_type": "code",
   "execution_count": 10,
   "metadata": {},
   "outputs": [
    {
     "ename": "ModuleNotFoundError",
     "evalue": "No module named 'app'",
     "output_type": "error",
     "traceback": [
      "\u001b[1;31m---------------------------------------------------------------------------\u001b[0m",
      "\u001b[1;31mModuleNotFoundError\u001b[0m                       Traceback (most recent call last)",
      "Cell \u001b[1;32mIn[10], line 4\u001b[0m\n\u001b[0;32m      1\u001b[0m \u001b[38;5;28;01mimport\u001b[39;00m \u001b[38;5;21;01munittest\u001b[39;00m\n\u001b[0;32m      2\u001b[0m \u001b[38;5;28;01mfrom\u001b[39;00m \u001b[38;5;21;01mrandom\u001b[39;00m \u001b[38;5;28;01mimport\u001b[39;00m choice, randint\n\u001b[1;32m----> 4\u001b[0m \u001b[38;5;28;01mfrom\u001b[39;00m \u001b[38;5;21;01mapp\u001b[39;00m \u001b[38;5;28;01mimport\u001b[39;00m Figure \u001b[38;5;66;03m# назва файлу з нашим класом повинна бути app.py\u001b[39;00m\n\u001b[0;32m      6\u001b[0m \u001b[38;5;28;01mclass\u001b[39;00m \u001b[38;5;21;01mTestFigure\u001b[39;00m(unittest\u001b[38;5;241m.\u001b[39mTestCase):\n\u001b[0;32m      7\u001b[0m     \u001b[38;5;129m@classmethod\u001b[39m\n\u001b[0;32m      8\u001b[0m     \u001b[38;5;28;01mdef\u001b[39;00m \u001b[38;5;21msetUpClass\u001b[39m(\u001b[38;5;28mcls\u001b[39m):\n",
      "\u001b[1;31mModuleNotFoundError\u001b[0m: No module named 'app'"
     ]
    }
   ],
   "source": [
    "import unittest\n",
    "from random import choice, randint\n",
    "\n",
    "from app import Figure # назва файлу з нашим класом повинна бути app.py\n",
    "\n",
    "class TestFigure(unittest.TestCase):\n",
    "    @classmethod\n",
    "    def setUpClass(cls):\n",
    "        \"\"\"Виконається лише раз на початку тестів\n",
    "        \"\"\"\n",
    "        pass\n",
    "    \n",
    "    def setUp(self) -> None:\n",
    "        \"\"\"Виконується кожного разу коли запускається тест\n",
    "        \"\"\"\n",
    "        self.figure = choice(Figure.FIGURES)\n",
    "        self.length = randint(1, 10)\n",
    "        self.obj = Figure(self.figure, self.length)\n",
    "        return super().setUp()\n",
    "\n",
    "    def tearDown(self) -> None:\n",
    "        del self.obj\n",
    "        return super().tearDown()\n",
    "\n",
    "    def test_figure_type(self):\n",
    "        print(f\"Тестуємо вивід, має бути: {self.figure} == {self.obj.get_figure_type}\")\n",
    "        self.assertEqual(self.figure, self.obj.get_figure_type, \"Властивість get_figure_type повертає непривильну фігуру!\")\n",
    "\n",
    "    def test_figure_lengh(self):\n",
    "        self.assertEqual(self.length, self.obj.get_figure_length, \"Властивість get_figure_length повертає непривильну довжину!\")\n",
    "    \n",
    "    def test_obj(self):\n",
    "        with self.assertRaises(AssertionError):\n",
    "            Figure(\"коло\", 1) # Спробуємо створити обєкт з недозволеними параметрими, в нас має бути помилка AssertionError\n",
    "\n",
    "\n",
    "if __name__ == '__main__':\n",
    "    unittest.main() # unittest.main(verbosity=2) щоб був більш детальний вивід"
   ]
  },
  {
   "cell_type": "code",
   "execution_count": 11,
   "metadata": {},
   "outputs": [],
   "source": [
    "def test_app_triangle():\n",
    "    \"\"\"Test if we create triangle figure.\n",
    "    \"\"\"\n",
    "    fig = \"трикутник\"\n",
    "    triangle = Figure(fig, 4)\n",
    "    assert triangle.type == fig, f\"Фігура має бути {fig}\""
   ]
  },
  {
   "cell_type": "code",
   "execution_count": null,
   "metadata": {},
   "outputs": [],
   "source": []
  }
 ],
 "metadata": {
  "kernelspec": {
   "display_name": "Python 3",
   "language": "python",
   "name": "python3"
  },
  "language_info": {
   "codemirror_mode": {
    "name": "ipython",
    "version": 3
   },
   "file_extension": ".py",
   "mimetype": "text/x-python",
   "name": "python",
   "nbconvert_exporter": "python",
   "pygments_lexer": "ipython3",
   "version": "3.12.1"
  }
 },
 "nbformat": 4,
 "nbformat_minor": 2
}
